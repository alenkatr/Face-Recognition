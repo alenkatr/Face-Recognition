{
 "cells": [
  {
   "cell_type": "code",
   "execution_count": 21,
   "id": "speaking-omega",
   "metadata": {},
   "outputs": [],
   "source": [
    "#VSE SKUPAJ-----CV verzija 28.3.2021---------------IMAGES--------------------For loop for k-----------------------------\n",
    "#To add new metric: https://stackoverflow.com/questions/21052509/sklearn-knn-usage-with-a-user-defined-metric\n",
    "#deluje----ok\n",
    "#1) load data IMAGES\t2) defin PM\t4) lmnn\t4) knn\t5) CV\n",
    "\n",
    "\n",
    "import matplotlib.pyplot as plt\n",
    "import numpy as np\n",
    "import pandas as pd\n",
    "\n",
    "from sklearn.model_selection import cross_val_score   #for crossvalidation\n",
    "from sklearn.model_selection import StratifiedKFold\n",
    "\n",
    "from pylmnn import LargeMarginNearestNeighbor as LMNN\n",
    "from sklearn.neighbors import KNeighborsClassifier\n",
    "from sklearn.metrics import classification_report, confusion_matrix, accuracy_score    #for confusion matrix\n",
    "from sklearn import datasets, neighbors, metrics   # Import datasets, classifiers and performance metrics\n",
    "\n",
    "from sklearn.preprocessing import Normalizer\t#for normalization\n",
    "\n",
    "from sklearn.neighbors import DistanceMetric\n",
    "from sklearn.preprocessing import StandardScaler    ##for standardization-Gaussian with zero mean and unit variance.\n",
    "\n"
   ]
  },
  {
   "cell_type": "code",
   "execution_count": 22,
   "id": "decent-tragedy",
   "metadata": {},
   "outputs": [
    {
     "name": "stdout",
     "output_type": "stream",
     "text": [
      "Mn X (3192, 1024)\n"
     ]
    }
   ],
   "source": [
    "train_df = pd.read_csv('cbclAutores150.csv')\n",
    "X = np.array(train_df.iloc[:, :-1])\t#all rows & all column except last one\n",
    "#print(train_data)\n",
    "y = np.array(train_df.iloc[:, -1])   #all rows & only last column\n",
    "\n",
    "X.shape\n",
    "print(f\"Mn X {X.shape}\")\n"
   ]
  },
  {
   "cell_type": "code",
   "execution_count": 23,
   "id": "former-therapy",
   "metadata": {},
   "outputs": [],
   "source": [
    "#Normalization dataset\n",
    "transformer = Normalizer().fit(X)\n",
    "X = transformer.transform(X)\n",
    "\n",
    "#print(X)\n",
    "#print(y)"
   ]
  },
  {
   "cell_type": "code",
   "execution_count": 24,
   "id": "southeast-number",
   "metadata": {},
   "outputs": [],
   "source": [
    "#Before making any actual predictions, it is always a good practice to scale the features so that all of them can be uniformly evaluated = standardization\n",
    "scaler = StandardScaler()\n",
    "scaler.fit(X)\n",
    "X = scaler.transform(X)\n"
   ]
  },
  {
   "cell_type": "code",
   "execution_count": 25,
   "id": "knowing-composite",
   "metadata": {},
   "outputs": [],
   "source": [
    "#Define functions to compute the value of the distance metrics: Poincare; ŠE NI OK\n",
    "#Define functions to compute the value of the distance metrics: Poincare; ŠE NI OK\n",
    "#@staticmethod\n",
    "def poin_distance(row1, row2):\n",
    "    distance = 0.0\n",
    "    d = 0.0\n",
    "    norm1 = 0.0\n",
    "    norm2 = 0.0\n",
    "    for i in range(len(row1)):\t\t#for i in range(len(row1)-1):\n",
    "        d += (row1[i] - row2[i])**2\n",
    "        norm1 += (row1[i] * row1[i])\n",
    "        norm2 += (row2[i] * row2[i])\n",
    "        m = 1 + 2*d/((1-norm1)*(1-norm2))\n",
    "        distance = np.log(m + np.sqrt(m*m - 1))\n",
    "        return(distance)\n"
   ]
  },
  {
   "cell_type": "code",
   "execution_count": 26,
   "id": "sorted-launch",
   "metadata": {},
   "outputs": [
    {
     "data": {
      "text/plain": [
       "LargeMarginNearestNeighbor(callback=None, impostor_store='auto', init='pca',\n",
       "                           max_impostors=500000, max_iter=180,\n",
       "                           n_components=None, n_jobs=1, n_neighbors=3,\n",
       "                           neighbors_params=None, random_state=None,\n",
       "                           store_opt_result=False, tol=1e-05, verbose=0,\n",
       "                           warm_start=False, weight_push_loss=0.5)"
      ]
     },
     "execution_count": 26,
     "metadata": {},
     "output_type": "execute_result"
    }
   ],
   "source": [
    "# LMNN: algorithm for metric learning---------------------after cross validation\n",
    "# Set up the hyperparameters\n",
    "k_train, k_test, max_iter = 3, 3, 180\t#n_components=X.shape[1], za bpp:640\n",
    "\n",
    "# Instantiate the metric learner\n",
    "lmnn = LMNN(n_neighbors=k_train, max_iter=max_iter)\n",
    "\n",
    "# Train the metric learner\n",
    "lmnn.fit(X,y)\n"
   ]
  },
  {
   "cell_type": "code",
   "execution_count": null,
   "id": "biblical-puzzle",
   "metadata": {},
   "outputs": [
    {
     "name": "stdout",
     "output_type": "stream",
     "text": [
      "Correctly Classified Instances: 0.9890350877192983\n",
      "Number of neighbors:  1\n",
      "Correctly Classified Instances: 0.9514411027568922\n",
      "Number of neighbors:  2\n"
     ]
    }
   ],
   "source": [
    "# Create a classifier: a knn with PM\n",
    "for i in range(1,11):\n",
    "    knn = neighbors.KNeighborsClassifier(n_neighbors=i, leaf_size=3, algorithm='auto', metric='pyfunc', metric_params={\"func\":poin_distance}, n_jobs=4) \t#to add new metric: metric='pyfunc'\n",
    "\t#for testing\n",
    "\t#knn = neighbors.KNeighborsClassifier(n_neighbors=5, algorithm='brute', metric='euclidean')    #algorithm='ball_tree' - for a custom metric\n",
    "\n",
    "\t# Learn the digits/iris on the train subset - fit the model\n",
    "    knn.fit(lmnn.transform(X),y)\n",
    "\n",
    "\t#cross validation-------------------where is this------------after knn\n",
    "    scores = cross_val_score(knn, lmnn.transform(X), y, cv=StratifiedKFold(10), n_jobs=4)\t#rez. se ne spremeijo, če dam tuki lmnn.transform(X)--POPRAVKI\n",
    "\n",
    "\t# Predict the value of the digit on the test subset---from https://scikit-learn.org/stable/auto_examples/classification/plot_digits_classification.html#sphx-glr-auto-examples-classification-plot-digits-classification-py\n",
    "    predicted = knn.predict(lmnn.transform(X))\n",
    "    lmnn_acc = knn.score(lmnn.transform(X), y)\n",
    "    #for results\n",
    "    #print(f\"Classification report for classifier {knn}:\\n\"\n",
    "    #      f\"{metrics.classification_report(y, predicted)}\\n\")   \n",
    "\n",
    "    # Print out confusion matrix\n",
    "    cmat = confusion_matrix(y, predicted)\t#print(cmat)\n",
    "\n",
    "    #print('Accuracy Rate: {}'.format(np.divide(np.sum([cmat[0,0],cmat[1,1]]),np.sum(cmat))))\n",
    "    #print('Misclassification Rate: {}'.format(np.divide(np.sum([cmat[0,1],cmat[1,0]]),np.sum(cmat))))\n",
    "\n",
    "    #print(cmat)\n",
    "\n",
    "    #print('Diagonal (sum): ', np.trace(cmat))\n",
    "    #print(\"All Instances:\", np.sum(cmat))\n",
    "    print(\"Correctly Classified Instances:\", np.trace(cmat)/np.sum(cmat))\n",
    "    print('Number of neighbors: ', i)\n"
   ]
  },
  {
   "cell_type": "code",
   "execution_count": null,
   "id": "early-virus",
   "metadata": {},
   "outputs": [],
   "source": []
  }
 ],
 "metadata": {
  "kernelspec": {
   "display_name": "Python 3",
   "language": "python",
   "name": "python3"
  },
  "language_info": {
   "codemirror_mode": {
    "name": "ipython",
    "version": 3
   },
   "file_extension": ".py",
   "mimetype": "text/x-python",
   "name": "python",
   "nbconvert_exporter": "python",
   "pygments_lexer": "ipython3",
   "version": "3.6.9"
  }
 },
 "nbformat": 4,
 "nbformat_minor": 5
}
