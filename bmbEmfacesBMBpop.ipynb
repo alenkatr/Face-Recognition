{
 "cells": [
  {
   "cell_type": "code",
   "execution_count": 45,
   "metadata": {},
   "outputs": [],
   "source": [
    "#VSE SKUPAJ-----CV verzija 29.12.2021---------------IMAGES--------------------basic kNN with euclidean metric-----------------------------\n",
    "#1) load data IMAGES\t2) define PM\t4) lmnn\t4) knn\t5) CV\n",
    "\n",
    "\n",
    "import matplotlib.pyplot as plt\n",
    "import numpy as np\n",
    "import pandas as pd\n",
    "\n",
    "from sklearn.model_selection import cross_val_score   #for crossvalidation\n",
    "from sklearn.model_selection import StratifiedKFold\n",
    "\n",
    "from pylmnn import LargeMarginNearestNeighbor as LMNN\n",
    "from sklearn.neighbors import KNeighborsClassifier\n",
    "from sklearn.metrics import classification_report, confusion_matrix, accuracy_score    #for confusion matrix\n",
    "from sklearn import datasets, neighbors, metrics   # Import datasets, classifiers and performance metrics\n",
    "\n",
    "from sklearn.preprocessing import Normalizer\t#for normalization\n",
    "\n",
    "from sklearn.neighbors import DistanceMetric\n",
    "from sklearn.preprocessing import StandardScaler    ##for standardization-Gaussian with zero mean and unit variance.\n",
    "\n",
    "#BMB\n",
    "import numpy as np\n",
    "from sklearn.model_selection import train_test_split\n",
    "import numpy as np\n",
    "import matplotlib.pyplot as plt\n",
    "from matplotlib.ticker import NullFormatter\n",
    "import pandas as pd\n",
    "import matplotlib.ticker as ticker\n",
    "%matplotlib inline"
   ]
  },
  {
   "cell_type": "code",
   "execution_count": 46,
   "metadata": {},
   "outputs": [
    {
     "data": {
      "text/plain": [
       "0      212\n",
       "1      212\n",
       "2      212\n",
       "3      212\n",
       "4      212\n",
       "      ... \n",
       "626    212\n",
       "627    212\n",
       "628    212\n",
       "629    212\n",
       "630    212\n",
       "Length: 631, dtype: int64"
      ]
     },
     "execution_count": 46,
     "metadata": {},
     "output_type": "execute_result"
    }
   ],
   "source": [
    "df = pd.read_csv('japanPhog.csv', header=None)\n",
    "df.iloc[:,630].unique() # BMB: Alenka, is this the number of classes\n",
    "df.count(axis=0, level=None, numeric_only=False)"
   ]
  },
  {
   "cell_type": "code",
   "execution_count": 47,
   "metadata": {},
   "outputs": [
    {
     "name": "stdout",
     "output_type": "stream",
     "text": [
      "Mn X (212, 630)\n",
      "Mn X_train (114, 630)\n",
      "Mn X_test (85, 630)\n",
      "Mn y_train (114,)\n",
      "Mn y_test (85,)\n",
      "Mn X_valid (13, 630)\n",
      "Mn y_valid (13,)\n"
     ]
    }
   ],
   "source": [
    "# X: the data to fit. Can be for example a list, or an array. y: the target variable to try to predict in the case of supervised learning.\n",
    "#for iris dataset: X, y = datasets.load_iris(return_X_y=True)  \t\n",
    "#X, y = datasets.load_digits(return_X_y=True)\n",
    "#print(datasets.load_digits(return_X_y=True))\n",
    "#X,y = datasets.load_digits(return_X_y=True)\n",
    "#X, y = datasets.load_iris(return_X_y=True)\t\t#X--data, y--class\n",
    "\n",
    "train_df = pd.read_csv('japanPhog.csv', header=None)\n",
    "X = np.array(train_df.iloc[:, :-1])\t#all rows & all column except last one\n",
    "#print(train_data)\n",
    "y = np.array(train_df.iloc[:, -1])   #all rows & only last column\n",
    "\n",
    "#BMB define train and test splits\n",
    "#X_train, X_test, y_train, y_test = train_test_split(X, y, test_size=0.33, random_state=52)\n",
    "X_train, X_test, y_train, y_test = train_test_split(X, y, train_size=0.6, random_state=52)\n",
    "\n",
    "X_train, X_valid, y_train, y_valid = train_test_split(X_train, y_train, train_size=0.9) # create a validation set from the already splited training set\n",
    "\n",
    "X.shape\n",
    "print(f\"Mn X {X.shape}\")\n",
    "\n",
    "# BMB\n",
    "X_train.shape\n",
    "X_test.shape \n",
    "y_train.shape \n",
    "y_test.shape\n",
    "\n",
    "print(f\"Mn X_train {X_train.shape}\")\n",
    "print(f\"Mn X_test {X_test.shape}\")\n",
    "print(f\"Mn y_train {y_train.shape}\")\n",
    "print(f\"Mn y_test {y_test.shape}\")\n",
    "print(f\"Mn X_valid {X_valid.shape}\")\n",
    "print(f\"Mn y_valid {y_valid.shape}\")"
   ]
  },
  {
   "cell_type": "code",
   "execution_count": 48,
   "metadata": {},
   "outputs": [],
   "source": [
    "#BMB Normalisation for each subset separatly\n",
    "\n",
    "transformer = Normalizer().fit(X_train)\n",
    "X_train = transformer.transform(X_train)\n",
    "\n",
    "transformer = Normalizer().fit(X_test)\n",
    "X_test = transformer.transform(X_test)\n",
    "\n",
    "transformer = Normalizer().fit(X_valid)\n",
    "X_valid = transformer.transform(X_valid)"
   ]
  },
  {
   "cell_type": "code",
   "execution_count": 49,
   "metadata": {},
   "outputs": [
    {
     "data": {
      "text/plain": [
       "LargeMarginNearestNeighbor(callback=None, impostor_store='auto', init='pca',\n",
       "                           max_impostors=500000, max_iter=2000,\n",
       "                           n_components=None, n_jobs=1, n_neighbors=3,\n",
       "                           neighbors_params=None, random_state=None,\n",
       "                           store_opt_result=False, tol=1e-05, verbose=0,\n",
       "                           warm_start=False, weight_push_loss=0.5)"
      ]
     },
     "execution_count": 49,
     "metadata": {},
     "output_type": "execute_result"
    }
   ],
   "source": [
    "##BMB\n",
    "\n",
    "#Before making any actual predictions, it is always a good practice to scale the features so that all of them can be uniformly evaluated = standardization\n",
    "scaler = StandardScaler()\n",
    "scaler.fit(X_train)\n",
    "X_train = scaler.transform(X_train)\n",
    "\n",
    "\n",
    "scaler = StandardScaler()\n",
    "scaler.fit(X_test)\n",
    "X_test = scaler.transform(X_test)\n",
    "\n",
    "\n",
    "scaler = StandardScaler()\n",
    "scaler.fit(X_valid)\n",
    "X_valid = scaler.transform(X_valid)\n",
    "\n",
    "# LMNN: algorithm for metric learning---------------------after cross validation\n",
    "\n",
    "### BMB Hyperparameters should be set on a different dataset, for example a cross-validation dataset\n",
    "# Set up the hyperparameters\n",
    "k_train, k_test, max_iter = 3, 3, 2000\t#n_components=X.shape[1], za bpp:640\n",
    "\n",
    "# Instantiate the metric learner\n",
    "lmnn = LMNN(n_neighbors=k_train, max_iter=max_iter)\n",
    "\n",
    "# Train the metric learner\n",
    "lmnn.fit(X_valid,y_valid)"
   ]
  },
  {
   "cell_type": "code",
   "execution_count": 50,
   "metadata": {},
   "outputs": [],
   "source": [
    "# Create a classifier: a knn with PM\n",
    "acc1 = []\n",
    "acc1_train = []\n",
    "for i in range(1,50):\n",
    "    knn = neighbors.KNeighborsClassifier(n_neighbors=i, leaf_size=3, algorithm='auto', metric='euclidean', n_jobs=4).fit(X_train,y_train) \t#to add new metric: metric='pyfunc'\n",
    "    #for testing\n",
    "    #knn = neighbors.KNeighborsClassifier(n_neighbors=5, algorithm='brute', metric='euclidean')    #algorithm='ball_tree' - for a custom metric\n",
    "\n",
    "    # Learn the digits/iris on the train subset - fit the model\n",
    "    knn.fit(lmnn.transform(X_train),y_train)\n",
    "\n",
    "    #cross validation-------------------where is this------------after knn\n",
    "    # BMB really not sure what this line of code is doing here.\n",
    "    #scores = cross_val_score(knn, X, y, cv=StratifiedKFold(10), n_jobs=4)\t#rez. se ne spremeijo, če dam tuki lmnn.transform(X)\n",
    "   \n",
    "\n",
    "\n",
    "\n",
    "    # Predict the value of the digit on the test subset\n",
    "    predicted = knn.predict(lmnn.transform(X_test))\n",
    "    predicted_train= knn.predict(lmnn.transform(X_train))\n",
    "    \n",
    "    acc1.append(metrics.accuracy_score(y_test, predicted))\n",
    "    acc1_train.append(metrics.accuracy_score(y_train, predicted_train))\n",
    "\n",
    "    #for output in txt file\n",
    "   # with open(\"outputjapanPhogEM.txt\", \"a\") as f:\n",
    "   #     print(f\"Classification report for classifier {knn}:\\n\"\n",
    "   #           f\"{metrics.classification_report(y_test, predicted)}\\n\", file=f)   \n",
    "   #     print('Name of data:', file=f)\n",
    "\n",
    "        # Print out confusion matrix\n",
    "   #     cmat = confusion_matrix(y_test, predicted)\t#print(cmat)\n",
    "\n",
    "   #     print('Accuracy Rate: {}'.format(np.divide(np.sum([cmat[0,0],cmat[1,1]]),np.sum(cmat))), file=f) ## TUKAJ JE OCITNO NAPAKA\n",
    "   #     print('Misclassification Rate: {}'.format(np.divide(np.sum([cmat[0,1],cmat[1,0]]),np.sum(cmat))), file=f)\n",
    "\n",
    "   #     print(cmat, file=f)\n",
    "\n",
    "   #     print('Diagonal (sum): ', np.trace(cmat), file=f)\n",
    "   #     print(\"All Instances:\", np.sum(cmat), file=f)\n",
    "   #     print(\"Correctly Classified Instances:\", np.trace(cmat)/np.sum(cmat), file=f)\n",
    "   #     print('Number of neighbors: ', i, file=f)\n"
   ]
  },
  {
   "cell_type": "code",
   "execution_count": 53,
   "metadata": {},
   "outputs": [
    {
     "name": "stdout",
     "output_type": "stream",
     "text": [
      "Maximum accuracy: 0.7764705882352941 at K = 2\n"
     ]
    },
    {
     "data": {
      "image/png": "[encoded data removed]",
      "text/plain": [
       "<Figure size 720x432 with 1 Axes>"
      ]
     },
     "metadata": {
      "needs_background": "light"
     },
     "output_type": "display_data"
    }
   ],
   "source": [
    "plt.figure(figsize=(10,6))\n",
    "# Plot the accuracy on the test data\n",
    "plt.plot(range(1,50),acc1,color = 'blue',linestyle='dashed', \n",
    "         marker='o',markerfacecolor='red', markersize=10, label='test acc')\n",
    "# Plot the accuracy on the training data\n",
    "plt.plot(range(1,50),acc1_train,color = 'green',linestyle='dashed', \n",
    "         marker='o',markerfacecolor='red', markersize=10, label='train acc')\n",
    "\n",
    "plt.title('accuracy vs. K Value')\n",
    "plt.xlabel('K')\n",
    "plt.ylabel('Accuracy')\n",
    "plt.legend()\n",
    "print(\"Maximum accuracy:\",max(acc1),\"at K =\",acc1.index(max(acc1)))"
   ]
  },
  {
   "cell_type": "markdown",
   "metadata": {},
   "source": [
    "# Visualise accuracy vs K value\n",
    "see https://towardsdatascience.com/how-to-find-the-optimal-value-of-k-in-knn-35d936e554eb"
   ]
  },
  {
   "cell_type": "code",
   "execution_count": 54,
   "metadata": {},
   "outputs": [
    {
     "name": "stdout",
     "output_type": "stream",
     "text": [
      "Maximum accuracy: 0.7764705882352941 at K = 2\n"
     ]
    },
    {
     "data": {
      "image/png": "[encoded data removed]",
      "text/plain": [
       "<Figure size 720x432 with 1 Axes>"
      ]
     },
     "metadata": {
      "needs_background": "light"
     },
     "output_type": "display_data"
    }
   ],
   "source": [
    "acc = []\n",
    "# Will take some time\n",
    "from sklearn import metrics\n",
    "for i in range(1,40):\n",
    "    neigh = KNeighborsClassifier(n_neighbors = i).fit(X_train,y_train)\n",
    "    neigh.fit(lmnn.transform(X_train),y_train)\n",
    "    yhat = neigh.predict(lmnn.transform(X_test))\n",
    "    #yhat = neigh.predict(lmnn.transform(X_test))\n",
    "    acc.append(metrics.accuracy_score(y_test, yhat))\n",
    "    \n",
    "plt.figure(figsize=(10,6))\n",
    "plt.plot(range(1,40),acc,color = 'blue',linestyle='dashed', \n",
    "         marker='o',markerfacecolor='red', markersize=10)\n",
    "plt.title('accuracy vs. K Value')\n",
    "plt.xlabel('K')\n",
    "plt.ylabel('Accuracy')\n",
    "print(\"Maximum accuracy:\",max(acc),\"at K =\",acc.index(max(acc)))"
   ]
  },
  {
   "cell_type": "code",
   "execution_count": 55,
   "metadata": {},
   "outputs": [
    {
     "data": {
      "text/plain": [
       "0.7764705882352941"
      ]
     },
     "execution_count": 55,
     "metadata": {},
     "output_type": "execute_result"
    }
   ],
   "source": [
    "max(acc)"
   ]
  },
  {
   "cell_type": "code",
   "execution_count": null,
   "metadata": {},
   "outputs": [],
   "source": []
  }
 ],
 "metadata": {
  "kernelspec": {
   "display_name": "Python 3",
   "language": "python",
   "name": "python3"
  },
  "language_info": {
   "codemirror_mode": {
    "name": "ipython",
    "version": 3
   },
   "file_extension": ".py",
   "mimetype": "text/x-python",
   "name": "python",
   "nbconvert_exporter": "python",
   "pygments_lexer": "ipython3",
   "version": "3.6.9"
  }
 },
 "nbformat": 4,
 "nbformat_minor": 4
}
