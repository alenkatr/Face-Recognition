{
 "cells": [
  {
   "cell_type": "code",
   "execution_count": 15,
   "metadata": {},
   "outputs": [],
   "source": [
    "#VSE SKUPAJ-----CV verzija 29.12.2021---------------IMAGES--------------------basic kNN with euclidean metric-----------------------------\n",
    "#1) load data IMAGES\t2) define PM\t4) lmnn\t4) knn\t5) CV\n",
    "\n",
    "\n",
    "import matplotlib.pyplot as plt\n",
    "import numpy as np\n",
    "import pandas as pd\n",
    "\n",
    "from sklearn.model_selection import cross_val_score   #for crossvalidation\n",
    "from sklearn.model_selection import StratifiedKFold\n",
    "\n",
    "from pylmnn import LargeMarginNearestNeighbor as LMNN\n",
    "from sklearn.neighbors import KNeighborsClassifier\n",
    "from sklearn.metrics import classification_report, confusion_matrix, accuracy_score    #for confusion matrix\n",
    "from sklearn import datasets, neighbors, metrics   # Import datasets, classifiers and performance metrics\n",
    "\n",
    "from sklearn.preprocessing import Normalizer\t#for normalization\n",
    "\n",
    "from sklearn.neighbors import DistanceMetric\n",
    "from sklearn.preprocessing import StandardScaler    ##for standardization-Gaussian with zero mean and unit variance.\n",
    "\n",
    "#BMB\n",
    "import numpy as np\n",
    "from sklearn.model_selection import train_test_split\n",
    "import numpy as np\n",
    "import matplotlib.pyplot as plt\n",
    "from matplotlib.ticker import NullFormatter\n",
    "import pandas as pd\n",
    "import matplotlib.ticker as ticker\n",
    "%matplotlib inline"
   ]
  },
  {
   "cell_type": "code",
   "execution_count": 16,
   "metadata": {},
   "outputs": [
    {
     "data": {
      "text/plain": [
       "0     7939\n",
       "1     7939\n",
       "2     7939\n",
       "3     7939\n",
       "4     7939\n",
       "5     7939\n",
       "6     7939\n",
       "7     7939\n",
       "8     7939\n",
       "9     7939\n",
       "10    7939\n",
       "11    7939\n",
       "12    7939\n",
       "13    7939\n",
       "14    7939\n",
       "15    7939\n",
       "16    7939\n",
       "17    7939\n",
       "18    7939\n",
       "19    7939\n",
       "20    7939\n",
       "21    7939\n",
       "22    7939\n",
       "23    7939\n",
       "24    7939\n",
       "25    7939\n",
       "26    7939\n",
       "27    7939\n",
       "28    7939\n",
       "29    7939\n",
       "30    7939\n",
       "31    7939\n",
       "32    7939\n",
       "33    7939\n",
       "dtype: int64"
      ]
     },
     "execution_count": 16,
     "metadata": {},
     "output_type": "execute_result"
    }
   ],
   "source": [
    "df = pd.read_csv('fotovseColorLayresample150.csv', header=None)\n",
    "df.iloc[:,33].unique() # \n",
    "df.count(axis=0, level=None, numeric_only=False)"
   ]
  },
  {
   "cell_type": "code",
   "execution_count": 17,
   "metadata": {},
   "outputs": [
    {
     "name": "stdout",
     "output_type": "stream",
     "text": [
      "Mn X (212, 630)\n",
      "Mn X_train (114, 630)\n",
      "Mn X_test (85, 630)\n",
      "Mn y_train (114,)\n",
      "Mn y_test (85,)\n",
      "Mn X_valid (13, 630)\n",
      "Mn y_valid (13,)\n"
     ]
    }
   ],
   "source": [
    "# X: the data to fit. Can be for example a list, or an array. y: the target variable to try to predict in the case of supervised learning.\n",
    "#for iris dataset: X, y = datasets.load_iris(return_X_y=True)  \t\n",
    "#X, y = datasets.load_digits(return_X_y=True)\n",
    "#print(datasets.load_digits(return_X_y=True))\n",
    "#X,y = datasets.load_digits(return_X_y=True)\n",
    "#X, y = datasets.load_iris(return_X_y=True)\t\t#X--data, y--class\n",
    "\n",
    "train_df = pd.read_csv('fotovseColorLayresample150.csv', header=None)\n",
    "X = np.array(train_df.iloc[:, :-1])\t#all rows & all column except last one\n",
    "#print(train_data)\n",
    "y = np.array(train_df.iloc[:, -1])   #all rows & only last column\n",
    "\n",
    "#BMB define train and test splits\n",
    "#X_train, X_test, y_train, y_test = train_test_split(X, y, test_size=0.33, random_state=52)\n",
    "X_train, X_test, y_train, y_test = train_test_split(X, y, train_size=0.6, random_state=52)\n",
    "\n",
    "X_train, X_valid, y_train, y_valid = train_test_split(X_train, y_train, train_size=0.9) # create a validation set from the already splited training set\n",
    "\n",
    "X.shape\n",
    "print(f\"Mn X {X.shape}\")\n",
    "\n",
    "# BMB\n",
    "X_train.shape\n",
    "X_test.shape \n",
    "y_train.shape \n",
    "y_test.shape\n",
    "\n",
    "print(f\"Mn X_train {X_train.shape}\")\n",
    "print(f\"Mn X_test {X_test.shape}\")\n",
    "print(f\"Mn y_train {y_train.shape}\")\n",
    "print(f\"Mn y_test {y_test.shape}\")\n",
    "print(f\"Mn X_valid {X_valid.shape}\")\n",
    "print(f\"Mn y_valid {y_valid.shape}\")"
   ]
  },
  {
   "cell_type": "code",
   "execution_count": 18,
   "metadata": {},
   "outputs": [],
   "source": [
    "#BMB Not sure if normalisation oges in steps\n",
    "\n",
    "transformer = Normalizer().fit(X_train)\n",
    "X_train = transformer.transform(X_train)\n",
    "\n",
    "transformer = Normalizer().fit(X_test)\n",
    "X_test = transformer.transform(X_test)\n",
    "\n",
    "transformer = Normalizer().fit(X_valid)\n",
    "X_valid = transformer.transform(X_valid)"
   ]
  },
  {
   "cell_type": "code",
   "execution_count": 19,
   "metadata": {},
   "outputs": [],
   "source": [
    "#print(X)\n",
    "#print(y)\n",
    "#Before making any actual predictions, it is always a good practice to scale the features so that all of them can be uniformly evaluated = standardization\n",
    "scaler = StandardScaler()\n",
    "scaler.fit(X_train)\n",
    "X_train = scaler.transform(X_train)\n",
    "\n",
    "scaler = StandardScaler()\n",
    "scaler.fit(X_test)\n",
    "X_test = scaler.transform(X_test)\n",
    "\n",
    "scaler = StandardScaler()\n",
    "scaler.fit(X_valid)\n",
    "X_valid = scaler.transform(X_valid)\n",
    "\n",
    "\n",
    "# LMNN: algorithm for metric learning---------------------after cross validation\n",
    "# Set up the hyperparameters\n",
    "k_train, k_test, max_iter = 2, 2, 2000\t#n_components=X.shape[1], za bpp:640\n",
    "\n"
   ]
  },
  {
   "cell_type": "code",
   "execution_count": 20,
   "metadata": {},
   "outputs": [],
   "source": [
    "#Define functions to compute the value of the distance metrics: Poincare; ŠE NI OK\n",
    "#Define functions to compute the value of the distance metrics: Poincare; ŠE NI OK\n",
    "#@staticmethod\n",
    "def poin_distance(row1, row2):\n",
    "    #print('len(row1) = ',len(row1))\n",
    "    #print('len(row1) = ',len(row1))\n",
    "    distance = 0.0\n",
    "    d = 0.0\n",
    "    norm1 = 0.0\n",
    "    norm2 = 0.0\n",
    "    for i in range(len(row1)):\t\t#for i in range(len(row1)-1):\n",
    "        #print(i)\n",
    "        d = d + (row1[i] - row2[i])*(row1[i] - row2[i])\n",
    "        #print(d)\n",
    "        norm1 = norm1 + (row1[i] * row1[i])\n",
    "        #print(norm1)\n",
    "        norm2 = norm2 + (row2[i] * row2[i])\n",
    "        #print(norm2)\n",
    "    \n",
    "    m = 1 + 2*d/((1-norm1)*(1-norm2))\n",
    "    distance = np.log(1+m + np.sqrt(m*m - 1)) # BMB dodano 1+\n",
    "    \n",
    "    return(distance)\n",
    "    \n",
    "    \n",
    "# BMB: how do we define the diference between the nominal values? Is that also included, for the last value in each raw?"
   ]
  },
  {
   "cell_type": "code",
   "execution_count": 21,
   "metadata": {},
   "outputs": [],
   "source": [
    "# Point Distanca Pavle Biljana\n",
    "#Define functions to compute the value of the distance metrics: Poincare; ŠE NI OK\n",
    "#Define functions to compute the value of the distance metrics: Poincare; ŠE NI OK\n",
    "#@staticmethod\n",
    "def poin_distanceBMB(row1, row2):\n",
    "    #print('len(row1) = ',len(row1))\n",
    "    #print('len(row1) = ',len(row1))\n",
    "    distance = 0.0\n",
    "    d = 0.0\n",
    "    norm1 = 0.0\n",
    "    norm2 = 0.0\n",
    "    \n",
    "    d = (row1 - row2)*(row1 - row2)\n",
    "    d = d.sum()\n",
    "    \n",
    "    norm1 = row1 * row1\n",
    "    norm1 = norm1.sum()\n",
    "    \n",
    "    norm2 = row2 * row2\n",
    "    norm2 = norm2.sum()\n",
    "    \n",
    "    m = 1 + 2*d/((1-norm1)*(1-norm2))\n",
    "    distance = np.log(1+m + np.sqrt(m*m - 1)) # BMB dodano 1+\n",
    "    \n",
    "    return(distance)\n",
    "    \n",
    "    \n",
    "# BMB: how do we define the diference between the nominal values? Is that also included, for the last value in each raw?"
   ]
  },
  {
   "cell_type": "code",
   "execution_count": 22,
   "metadata": {},
   "outputs": [],
   "source": [
    "#c = [1,2,3]\n",
    "#d = [7,3,4]\n",
    "#BMB_distance(X_train,y_train)\n",
    "\n",
    "\n",
    "#%timeit poin_distanceBMB(df.iloc[1,:-1], df.iloc[2,:-1])\n",
    "\n",
    "\n",
    "#X = poin_distanceBMB(df.iloc[1,:-1], df.iloc[2,:-1])\n",
    "#X1=poin_distance(df.iloc[1,:-1], df.iloc[2,:-1])\n",
    "\n",
    "#len(df.iloc[1,:])\n",
    "#len(df.iloc[1,:])\n",
    "#df.iloc[1,:]\n"
   ]
  },
  {
   "cell_type": "code",
   "execution_count": 23,
   "metadata": {},
   "outputs": [
    {
     "data": {
      "text/plain": [
       "((114, 630), (114,))"
      ]
     },
     "execution_count": 23,
     "metadata": {},
     "output_type": "execute_result"
    }
   ],
   "source": [
    "X_train.shape, y_train.shape"
   ]
  },
  {
   "cell_type": "code",
   "execution_count": 24,
   "metadata": {},
   "outputs": [
    {
     "data": {
      "text/plain": [
       "LargeMarginNearestNeighbor(callback=None, impostor_store='auto', init='pca',\n",
       "                           max_impostors=500000, max_iter=2000,\n",
       "                           n_components=None, n_jobs=1, n_neighbors=2,\n",
       "                           neighbors_params=None, random_state=None,\n",
       "                           store_opt_result=False, tol=1e-05, verbose=0,\n",
       "                           warm_start=False, weight_push_loss=0.5)"
      ]
     },
     "execution_count": 24,
     "metadata": {},
     "output_type": "execute_result"
    }
   ],
   "source": [
    "# Instantiate the metric learner\n",
    "lmnn = LMNN(n_neighbors=k_train, max_iter=max_iter)\n",
    "\n",
    "# Train the metric learner\n",
    "lmnn.fit(X_valid, y_valid)"
   ]
  },
  {
   "cell_type": "code",
   "execution_count": 25,
   "metadata": {},
   "outputs": [],
   "source": [
    "##BMB\n",
    "\n",
    "#Before making any actual predictions, it is always a good practice to scale the features so that all of them can be uniformly evaluated = standardization\n",
    "#scaler = StandardScaler()\n",
    "#scaler.fit(X_train)\n",
    "#X_train = scaler.transform(X_train)\n",
    "\n",
    "\n",
    "# LMNN: algorithm for metric learning---------------------after cross validation\n",
    "\n",
    "### BMB Hyperparameters should be set on a different dataset, for example a cross-validation dataset\n",
    "# Set up the hyperparameters\n",
    "#k_train, k_test, max_iter = 3, 3, 2000\t#n_components=X.shape[1], za bpp:640\n",
    "\n",
    "# Instantiate the metric learner\n",
    "#lmnn = LMNN(n_neighbors=k_train, max_iter=max_iter)\n",
    "\n",
    "# Train the metric learner\n",
    "#lmnn.fit(X_valid,y_valid)"
   ]
  },
  {
   "cell_type": "code",
   "execution_count": 26,
   "metadata": {},
   "outputs": [],
   "source": [
    "# Create a classifier: a knn with PM\n",
    "acc1 = []\n",
    "acc1_train = []\n",
    "for i in range(1,40):\n",
    "    knn = neighbors.KNeighborsClassifier(n_neighbors=i, metric='pyfunc', metric_params={\"func\":poin_distanceBMB}).fit(X_train,y_train) \t#to add new metric: metric='pyfunc'\n",
    "    #for testing\n",
    "    #knn = neighbors.KNeighborsClassifier(n_neighbors=5, algorithm='brute', metric='euclidean')    #algorithm='ball_tree' - for a custom metric\n",
    "\n",
    "    # Learn the digits/iris on the train subset - fit the model\n",
    "    # BMB: Mi ni jasno kako funkciji lmnn damo Poankare distance?\n",
    "    knn.fit(lmnn.transform(X_train),y_train)\n",
    " \n",
    "    # Predict the value of the digit on the test subset  and calculate the accuracy\n",
    "    predicted = knn.predict(lmnn.transform(X_test))\n",
    "    acc1.append(metrics.accuracy_score(y_test, predicted))\n",
    "    #acc1.append(knn.score(y_test, predicted))\n",
    "    \n",
    "    # Predict the value of the digit on the test subset  and calculate the accuracy of the trining set\n",
    "    predicted_train= knn.predict(lmnn.transform(X_train))   \n",
    "    acc1_train.append(metrics.accuracy_score(y_train, predicted_train))\n",
    "    \n",
    "   \n",
    "    \n",
    "    \n",
    "\n",
    "    #for output in txt file\n",
    "  #  with open(\"outputjapanPhogPM.txt\", \"a\") as f:\n",
    "  #      print(f\"Classification report for classifier {knn}:\\n\"\n",
    "  #            f\"{metrics.classification_report(y_test, predicted)}\\n\", file=f)   \n",
    "  #      print('Name of data:', file=f)\n",
    "\n",
    "  #      # Print out confusion matrix\n",
    "  #      cmat = confusion_matrix(y_test, predicted)\t#print(cmat)\n",
    "\n",
    "  #      print('Accuracy Rate: {}'.format(np.divide(np.sum([cmat[0,0],cmat[1,1]]),np.sum(cmat))), file=f) ## TUKAJ JE OCITNO NAPAKA\n",
    "  #      print('Misclassification Rate: {}'.format(np.divide(np.sum([cmat[0,1],cmat[1,0]]),np.sum(cmat))), file=f)\n",
    "\n",
    "  #      print(cmat, file=f)\n",
    "\n",
    "  #      print('Diagonal (sum): ', np.trace(cmat), file=f)\n",
    "  #      print(\"All Instances:\", np.sum(cmat), file=f)\n",
    "  #      print(\"Correctly Classified Instances:\", np.trace(cmat)/np.sum(cmat), file=f)\n",
    "  #      print('Number of neighbors: ', i, file=f)\n"
   ]
  },
  {
   "cell_type": "code",
   "execution_count": 27,
   "metadata": {},
   "outputs": [
    {
     "name": "stdout",
     "output_type": "stream",
     "text": [
      "Maximum accuracy: 0.7294117647058823 at K = 11\n"
     ]
    },
    {
     "data": {
      "image/png": "[encoded data removed]",
      "text/plain": [
       "<Figure size 720x432 with 1 Axes>"
      ]
     },
     "metadata": {
      "needs_background": "light"
     },
     "output_type": "display_data"
    }
   ],
   "source": [
    "plt.figure(figsize=(10,6))\n",
    "# Plot the accuracy on the test data\n",
    "plt.plot(range(1,40),acc1,color = 'blue',linestyle='dashed', \n",
    "         marker='o',markerfacecolor='red', markersize=10, label='test acc')\n",
    "# Plot the accuracy on the training data\n",
    "plt.plot(range(1,40),acc1_train,color = 'green',linestyle='dashed', \n",
    "         marker='o',markerfacecolor='red', markersize=10, label='train acc')\n",
    "\n",
    "plt.title('accuracy vs. K Value')\n",
    "plt.xlabel('K')\n",
    "plt.ylabel('Accuracy')\n",
    "plt.legend()\n",
    "print(\"Maximum accuracy:\",max(acc1),\"at K =\",acc1.index(max(acc1)))"
   ]
  },
  {
   "cell_type": "markdown",
   "metadata": {},
   "source": [
    "# Visualise accuracy vs K value\n",
    "see https://towardsdatascience.com/how-to-find-the-optimal-value-of-k-in-knn-35d936e554eb"
   ]
  },
  {
   "cell_type": "code",
   "execution_count": 198,
   "metadata": {},
   "outputs": [
    {
     "name": "stdout",
     "output_type": "stream",
     "text": [
      "Maximum accuracy: 0.6470588235294118 at K = 10\n"
     ]
    },
    {
     "data": {
      "image/png": "[encoded data removed]",
      "text/plain": [
       "<Figure size 720x432 with 1 Axes>"
      ]
     },
     "metadata": {
      "needs_background": "light"
     },
     "output_type": "display_data"
    }
   ],
   "source": [
    "acc = []\n",
    "# Will take some time\n",
    "from sklearn import metrics\n",
    "for i in range(1,40):\n",
    "    neigh = KNeighborsClassifier(n_neighbors = i, metric='pyfunc', metric_params={\"func\":poin_distanceBMB}).fit(X_train,y_train)\n",
    "    neigh.fit(lmnn.transform(X_train),y_train)\n",
    "    yhat = neigh.predict(lmnn.transform(X_test))\n",
    "    #yhat = neigh.predict(lmnn.transform(X_test))\n",
    "    acc.append(metrics.accuracy_score(y_test, yhat))\n",
    "    \n",
    "plt.figure(figsize=(10,6))\n",
    "plt.plot(range(1,40),acc,color = 'blue',linestyle='dashed', \n",
    "         marker='o',markerfacecolor='red', markersize=10)\n",
    "plt.title('accuracy vs. K Value')\n",
    "plt.xlabel('K')\n",
    "plt.ylabel('Accuracy')\n",
    "print(\"Maximum accuracy:\", max(acc),\"at K =\",acc.index(max(acc)))"
   ]
  },
  {
   "cell_type": "code",
   "execution_count": 199,
   "metadata": {},
   "outputs": [
    {
     "data": {
      "text/plain": [
       "KNeighborsClassifier(algorithm='auto', leaf_size=30, metric='pyfunc',\n",
       "                     metric_params={'func': <function poin_distanceBMB at 0x7fde4b41c510>},\n",
       "                     n_jobs=None, n_neighbors=39, p=2, weights='uniform')"
      ]
     },
     "execution_count": 199,
     "metadata": {},
     "output_type": "execute_result"
    }
   ],
   "source": [
    "neigh = KNeighborsClassifier(n_neighbors = i, metric='pyfunc', metric_params={\"func\":poin_distanceBMB}).fit(X_train,y_train)\n",
    "neigh"
   ]
  },
  {
   "cell_type": "code",
   "execution_count": 200,
   "metadata": {},
   "outputs": [
    {
     "data": {
      "text/plain": [
       "KNeighborsClassifier(algorithm='auto', leaf_size=30, metric='pyfunc',\n",
       "                     metric_params={'func': <function poin_distanceBMB at 0x7fde4b41c510>},\n",
       "                     n_jobs=None, n_neighbors=39, p=2, weights='uniform')"
      ]
     },
     "execution_count": 200,
     "metadata": {},
     "output_type": "execute_result"
    }
   ],
   "source": [
    "neigh.fit(lmnn.transform(X_train),y_train)\n",
    "neigh"
   ]
  },
  {
   "cell_type": "code",
   "execution_count": 201,
   "metadata": {},
   "outputs": [
    {
     "data": {
      "text/plain": [
       "array(['kl', 'uy', 'nm', 'kl', 'na', 'tm', 'kl', 'kl', 'na', 'uy', 'na',\n",
       "       'kl', 'tm', 'kl', 'kl', 'kl', 'kl', 'kl', 'kl', 'kl', 'tm', 'kl',\n",
       "       'tm', 'kl', 'tm', 'tm', 'tm', 'kl', 'kl', 'tm', 'na', 'tm', 'uy',\n",
       "       'kl', 'tm', 'km', 'tm', 'tm', 'uy', 'kl', 'na', 'km', 'uy', 'tm',\n",
       "       'uy', 'kl', 'uy', 'uy', 'tm', 'kl', 'na', 'na', 'kl', 'kl', 'uy',\n",
       "       'na', 'na', 'kr', 'uy', 'km', 'uy', 'kr', 'kl', 'kl', 'nm', 'kl',\n",
       "       'tm', 'kl', 'na', 'uy', 'tm', 'tm', 'kl', 'kl', 'km', 'km', 'tm',\n",
       "       'tm', 'km', 'km', 'tm', 'km', 'tm', 'kl', 'kl'], dtype=object)"
      ]
     },
     "execution_count": 201,
     "metadata": {},
     "output_type": "execute_result"
    }
   ],
   "source": [
    "yhat"
   ]
  },
  {
   "cell_type": "code",
   "execution_count": 202,
   "metadata": {},
   "outputs": [
    {
     "data": {
      "text/plain": [
       "(array(['kl', 'kr', 'nm', 'km', 'tm', 'kr', 'mk', 'kl', 'tm', 'uy', 'ym',\n",
       "        'kl', 'ym', 'na', 'mk', 'na', 'na', 'na', 'mk', 'mk', 'ym', 'kl',\n",
       "        'ka', 'kl', 'nm', 'tm', 'uy', 'mk', 'na', 'kr', 'ka', 'tm', 'uy',\n",
       "        'kl', 'uy', 'km', 'km', 'ym', 'uy', 'ka', 'ym', 'km', 'km', 'ym',\n",
       "        'nm', 'na', 'uy', 'nm', 'kr', 'kl', 'tm', 'mk', 'mk', 'na', 'uy',\n",
       "        'ym', 'kr', 'kr', 'uy', 'km', 'kr', 'km', 'ka', 'ka', 'nm', 'kl',\n",
       "        'tm', 'ka', 'ym', 'uy', 'ym', 'ym', 'mk', 'mk', 'km', 'kr', 'km',\n",
       "        'tm', 'km', 'km', 'kr', 'km', 'ym', 'na', 'mk'], dtype=object),\n",
       " array(['kl', 'uy', 'nm', 'kl', 'na', 'tm', 'kl', 'kl', 'na', 'uy', 'na',\n",
       "        'kl', 'tm', 'kl', 'kl', 'kl', 'kl', 'kl', 'kl', 'kl', 'tm', 'kl',\n",
       "        'tm', 'kl', 'tm', 'tm', 'tm', 'kl', 'kl', 'tm', 'na', 'tm', 'uy',\n",
       "        'kl', 'tm', 'km', 'tm', 'tm', 'uy', 'kl', 'na', 'km', 'uy', 'tm',\n",
       "        'uy', 'kl', 'uy', 'uy', 'tm', 'kl', 'na', 'na', 'kl', 'kl', 'uy',\n",
       "        'na', 'na', 'kr', 'uy', 'km', 'uy', 'kr', 'kl', 'kl', 'nm', 'kl',\n",
       "        'tm', 'kl', 'na', 'uy', 'tm', 'tm', 'kl', 'kl', 'km', 'km', 'tm',\n",
       "        'tm', 'km', 'km', 'tm', 'km', 'tm', 'kl', 'kl'], dtype=object))"
      ]
     },
     "execution_count": 202,
     "metadata": {},
     "output_type": "execute_result"
    }
   ],
   "source": [
    "y_test, predicted"
   ]
  },
  {
   "cell_type": "code",
   "execution_count": 203,
   "metadata": {},
   "outputs": [
    {
     "data": {
      "text/plain": [
       "array(['kl', 'km', 'kr', 'na', 'nm', 'tm', 'uy'], dtype=object)"
      ]
     },
     "execution_count": 203,
     "metadata": {},
     "output_type": "execute_result"
    }
   ],
   "source": [
    "u, indices = np.unique(predicted, return_index=True)\n",
    "u"
   ]
  },
  {
   "cell_type": "code",
   "execution_count": 204,
   "metadata": {},
   "outputs": [
    {
     "data": {
      "text/plain": [
       "array(['ka', 'kl', 'km', 'kr', 'mk', 'na', 'nm', 'tm', 'uy', 'ym'],\n",
       "      dtype=object)"
      ]
     },
     "execution_count": 204,
     "metadata": {},
     "output_type": "execute_result"
    }
   ],
   "source": [
    "u, indices = np.unique(y_test, return_index=True)\n",
    "u"
   ]
  },
  {
   "cell_type": "code",
   "execution_count": null,
   "metadata": {},
   "outputs": [],
   "source": []
  },
  {
   "cell_type": "code",
   "execution_count": 205,
   "metadata": {},
   "outputs": [
    {
     "data": {
      "text/plain": [
       "array(['ka', 'kl', 'km', 'kr', 'mk', 'na', 'nm', 'tm', 'uy', 'ym'],\n",
       "      dtype=object)"
      ]
     },
     "execution_count": 205,
     "metadata": {},
     "output_type": "execute_result"
    }
   ],
   "source": [
    "u, indices = np.unique(y_train, return_index=True)\n",
    "u"
   ]
  },
  {
   "cell_type": "code",
   "execution_count": null,
   "metadata": {},
   "outputs": [],
   "source": []
  }
 ],
 "metadata": {
  "kernelspec": {
   "display_name": "Python 3",
   "language": "python",
   "name": "python3"
  },
  "language_info": {
   "codemirror_mode": {
    "name": "ipython",
    "version": 3
   },
   "file_extension": ".py",
   "mimetype": "text/x-python",
   "name": "python",
   "nbconvert_exporter": "python",
   "pygments_lexer": "ipython3",
   "version": "3.6.9"
  }
 },
 "nbformat": 4,
 "nbformat_minor": 4
}
